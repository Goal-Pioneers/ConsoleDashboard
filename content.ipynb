{
 "cells": [
  {
   "attachments": {},
   "cell_type": "markdown",
   "id": "75640993",
   "metadata": {},
   "source": [
    "# Content"
   ]
  },
  {
   "attachments": {},
   "cell_type": "markdown",
   "id": "3c4f2980",
   "metadata": {},
   "source": [
    "## Preliminaries"
   ]
  },
  {
   "attachments": {},
   "cell_type": "markdown",
   "id": "2828397e",
   "metadata": {},
   "source": [
    "* [frontpage](dashboard.ipynb)"
   ]
  },
  {
   "attachments": {},
   "cell_type": "markdown",
   "id": "04da229e",
   "metadata": {},
   "source": []
  },
  {
   "attachments": {},
   "cell_type": "markdown",
   "id": "f62689ed",
   "metadata": {},
   "source": [
    "## Datasets\n",
    "* [content](datasets.ipynb)"
   ]
  },
  {
   "attachments": {},
   "cell_type": "markdown",
   "id": "e2d84315",
   "metadata": {},
   "source": [
    "## Projects\n",
    "* Example"
   ]
  },
  {
   "attachments": {},
   "cell_type": "markdown",
   "id": "7b517831",
   "metadata": {},
   "source": []
  },
  {
   "attachments": {},
   "cell_type": "markdown",
   "id": "41b7a219",
   "metadata": {},
   "source": [
    "## Protototypes\n",
    "* Example"
   ]
  },
  {
   "attachments": {},
   "cell_type": "markdown",
   "id": "677678cc",
   "metadata": {},
   "source": []
  },
  {
   "attachments": {},
   "cell_type": "markdown",
   "id": "4880d5e2",
   "metadata": {},
   "source": [
    "## Modules\n",
    "* Example"
   ]
  },
  {
   "attachments": {},
   "cell_type": "markdown",
   "id": "c86e382a",
   "metadata": {},
   "source": []
  },
  {
   "attachments": {},
   "cell_type": "markdown",
   "id": "a0899fe9",
   "metadata": {},
   "source": [
    "## Components\n",
    "* Example"
   ]
  },
  {
   "attachments": {},
   "cell_type": "markdown",
   "id": "92918429",
   "metadata": {},
   "source": []
  },
  {
   "attachments": {},
   "cell_type": "markdown",
   "id": "a7ae4ac8",
   "metadata": {},
   "source": [
    "## Apendencies"
   ]
  },
  {
   "attachments": {},
   "cell_type": "markdown",
   "id": "0cb739e8",
   "metadata": {},
   "source": [
    "## Footnotes"
   ]
  }
 ],
 "metadata": {
  "kernelspec": {
   "display_name": "Python 3 (ipykernel)",
   "language": "python",
   "name": "python3"
  }
 },
 "nbformat": 4,
 "nbformat_minor": 5
}
